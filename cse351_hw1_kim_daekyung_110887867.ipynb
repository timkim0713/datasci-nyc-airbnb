{
  "nbformat": 4,
  "nbformat_minor": 0,
  "metadata": {
    "colab": {
      "name": "cse351_hw1_kim_daekyung_110887867.ipynb",
      "provenance": [],
      "collapsed_sections": [],
      "authorship_tag": "ABX9TyM/dCZb2lyUjrBsh7Kq5mk/",
      "include_colab_link": true
    },
    "kernelspec": {
      "name": "python3",
      "display_name": "Python 3"
    },
    "language_info": {
      "name": "python"
    }
  },
  "cells": [
    {
      "cell_type": "markdown",
      "metadata": {
        "id": "view-in-github",
        "colab_type": "text"
      },
      "source": [
        "<a href=\"https://colab.research.google.com/github/timkim0713/datasci-nyc-airbnb/blob/master/cse351_hw1_kim_daekyung_110887867.ipynb\" target=\"_parent\"><img src=\"https://colab.research.google.com/assets/colab-badge.svg\" alt=\"Open In Colab\"/></a>"
      ]
    },
    {
      "cell_type": "code",
      "execution_count": null,
      "metadata": {
        "id": "I9ekVk1ql9F7"
      },
      "outputs": [],
      "source": [
        "from wordcloud import WordCloud, STOPWORDS\n",
        "import matplotlib.pyplot as plt\n",
        "import pandas as pd\n",
        "import numpy as np\n",
        "import seaborn as sns\n",
        "import csv\n",
        "import os"
      ]
    },
    {
      "cell_type": "code",
      "source": [
        "# Data Setup\n",
        "\n",
        "# UPLOADED the output of above to below url\n",
        "data = 'https://raw.githubusercontent.com/timkim0713/datasci-nyc-airbnb/master/AB_NYC_2019.csv'\n",
        "df = pd.read_csv(data)\n"
      ],
      "metadata": {
        "id": "I2ysEMPnh0-S"
      },
      "execution_count": null,
      "outputs": []
    },
    {
      "cell_type": "markdown",
      "source": [
        "# **TASK 1. Cleaning Data**\n",
        "\n",
        "\n",
        "### **Handling Strange Values** <br/>\n",
        "\n",
        "```\n",
        "df['price'] == 0).sum()\n",
        "df['availability_365'] == 0).sum()\n",
        "```\n",
        "\n",
        "- There are 11 rows of prices at 0. Therefore, these 11 rows of 0 prices are dropped.\n",
        "\n",
        "- There are 17533 rows of availability_365 as 0. However, this was also purposely not handled as some hosts may have set this as 0 to take no more guests. \n",
        "\n",
        "### **Handling NaN Values** <br/>\n",
        "\n",
        "```\n",
        "df.isnull().sum()\n",
        "```\n",
        "The code above have shown the data with all NaN values. Therefore, I made the modification as below. \n",
        "\n",
        "- 16 NaN 'name' to \"unknown\" <br/>\n",
        "- 21 NaN 'host_name' to 'unknown' <br/>\n",
        "- Replaced NaN reviews_per_month to 0 <br/>\n",
        "- Last_review is a column that is not critical to our data, yet it has NaN values. Therefore, I have removed this column in the entire dataset.It is okay, because we still have the more valuable data: number of reviews.<br/>"
      ],
      "metadata": {
        "id": "kQfPplbwSoTv"
      }
    },
    {
      "cell_type": "code",
      "source": [
        "# TASK 1. Cleaning Data\n",
        "\n",
        "# handle NaN values of name, host_name, reviews_per_month\n",
        "df = df.fillna({'name': 'unknown', 'host_name': 'unknown', 'reviews_per_month': 0})\n",
        "\n",
        "# drop last_review column\n",
        "df = df.drop('last_review', 1)\n",
        "\n",
        "# remove price at 0 \n",
        "df = df.loc[df['price'] != 0]\n",
        "\n",
        "# Removed all anomalies\n",
        "df.isnull().sum()\n"
      ],
      "metadata": {
        "id": "ts9lJiR_mTof",
        "colab": {
          "base_uri": "https://localhost:8080/"
        },
        "outputId": "dccb5fbd-5084-4632-cb41-ce0be0473d07"
      },
      "execution_count": null,
      "outputs": [
        {
          "output_type": "stream",
          "name": "stderr",
          "text": [
            "/usr/local/lib/python3.7/dist-packages/ipykernel_launcher.py:7: FutureWarning: In a future version of pandas all arguments of DataFrame.drop except for the argument 'labels' will be keyword-only\n",
            "  import sys\n"
          ]
        },
        {
          "output_type": "execute_result",
          "data": {
            "text/plain": [
              "id                                0\n",
              "name                              0\n",
              "host_id                           0\n",
              "host_name                         0\n",
              "neighbourhood_group               0\n",
              "neighbourhood                     0\n",
              "latitude                          0\n",
              "longitude                         0\n",
              "room_type                         0\n",
              "price                             0\n",
              "minimum_nights                    0\n",
              "number_of_reviews                 0\n",
              "reviews_per_month                 0\n",
              "calculated_host_listings_count    0\n",
              "availability_365                  0\n",
              "dtype: int64"
            ]
          },
          "metadata": {},
          "execution_count": 68
        }
      ]
    },
    {
      "cell_type": "markdown",
      "source": [
        "# **TASK 2. Price Changes in the Neighbourhood**\n",
        "\n",
        "\n",
        "## **2a. Top 5 and Bottom 5 Avg. Prices of Neighbours (Above 5 Listings)**\n",
        "We see that there are several neighbours which occur little (less than 5). They are filtered and removed to find the top and bottom 5 average prices based on neighbourhoods.\n",
        "\n",
        "## **2b. Prices Across Different Neighbourhood Groups**\n",
        "We see that Manhattan has a wide range of prices, more expensive than the other groups. Then, Brooklyn is the next highest in average.\n",
        "Queens, Staten Island, and Bronx are similary have low prices overall.\n"
      ],
      "metadata": {
        "id": "WDDZnctcmo7Y"
      }
    },
    {
      "cell_type": "code",
      "source": [
        "# Task 2a. Top 5, Bottom 5 Prices of Neighbours (Above 5 Listings)\n",
        "frequency = df['neighbourhood'].value_counts()\n",
        "\n",
        "# Filter Listings below <=5\n",
        "df_filtered_below_5 = frequency[frequency <= 5]  \n",
        "removed_neighbours = df_filtered_below_5.keys()\n",
        "\n",
        "# Remove the neighbours that occur below 5\n",
        "df_copy = df \n",
        "df_copy = df_copy[df_copy.neighbourhood.isin(list(removed_neighbours))]\n",
        "\n",
        "# Find the mean price of the filtered neigbours/price\n",
        "avg = df_copy.groupby('neighbourhood')['price'].mean()\n",
        "\n",
        "print(\"Top 5 Avg. Prices of Neighbourhoods (Excluding neighbourhood counts <=5)\")\n",
        "print(avg.sort_values(ascending=False).head(5))\n",
        "\n",
        "print(\"Bottom 5 Avg. Prices of Neighbourhoods (Excluding neighbourhood counts <=5)\")\n",
        "print(avg.sort_values(ascending=True).head(5))\n",
        "\n"
      ],
      "metadata": {
        "colab": {
          "base_uri": "https://localhost:8080/"
        },
        "id": "iUTas0fAmsTB",
        "outputId": "bc7c0fe7-1878-43a6-e2f7-da96f7e8559c"
      },
      "execution_count": null,
      "outputs": [
        {
          "output_type": "stream",
          "name": "stdout",
          "text": [
            "Top 5 Avg. Prices of Neighbourhoods (Excluding neighbourhood counts <=5)\n",
            "neighbourhood\n",
            "Fort Wadsworth    800.000000\n",
            "Woodrow           700.000000\n",
            "Prince's Bay      409.500000\n",
            "Neponsit          274.666667\n",
            "Willowbrook       249.000000\n",
            "Name: price, dtype: float64\n",
            "Bottom 5 Avg. Prices of Neighbourhoods (Excluding neighbourhood counts <=5)\n",
            "neighbourhood\n",
            "New Dorp          57.00\n",
            "New Dorp Beach    57.40\n",
            "Olinville         64.00\n",
            "Arden Heights     67.25\n",
            "Emerson Hill      68.20\n",
            "Name: price, dtype: float64\n"
          ]
        }
      ]
    },
    {
      "cell_type": "code",
      "source": [
        "# Task 2b.\n",
        "\n",
        "# 7.2 df setup with neighbourhood_group, room_type, and availability_365\n",
        "df_2_b = df[['neighbourhood_group','price']]\n",
        "\n",
        "price_colors = {}\n",
        "price_counter = 1\n",
        "for i in df['price']:\n",
        "  if i not in price_colors:\n",
        "    price_colors[i] = price_counter\n",
        "    price_counter += 1\n",
        "\n",
        "\n",
        "\n",
        "fig, ((ax1)) = plt.subplots(1,1, figsize=(10,8))\n",
        "\n",
        "df_2_b.plot.scatter(ax=ax1, x = 'neighbourhood_group', y = 'price', title=\"2b. Prices Across Neighbourhood Group\" ,s=10);\n",
        "df_2_b_avg = df.groupby('neighbourhood_group')['price'].mean()\n",
        "print(\"Average Price By Neighbourhood Group\")\n",
        "print(df_2_b_avg)\n"
      ],
      "metadata": {
        "colab": {
          "base_uri": "https://localhost:8080/",
          "height": 657
        },
        "id": "CZ1a5KwDtHh4",
        "outputId": "ca8ee4df-a34e-430a-a7bb-1a0ebde7d0fc"
      },
      "execution_count": null,
      "outputs": [
        {
          "output_type": "stream",
          "name": "stdout",
          "text": [
            "Average Price By Neighbourhood Group\n",
            "neighbourhood_group\n",
            "Bronx             87.577064\n",
            "Brooklyn         124.438915\n",
            "Manhattan        196.884903\n",
            "Queens            99.517649\n",
            "Staten Island    114.812332\n",
            "Name: price, dtype: float64\n"
          ]
        },
        {
          "output_type": "display_data",
          "data": {
            "image/png": "[encoded data removed]",
            "text/plain": [
              "<Figure size 720x576 with 1 Axes>"
            ]
          },
          "metadata": {
            "needs_background": "light"
          }
        }
      ]
    },
    {
      "cell_type": "markdown",
      "source": [
        "# **TASK 3. Pairwise Correlation Heat Map**\n",
        "\n",
        "\n",
        "### **Interseting Featuers** <br/>\n",
        "\n",
        "Created a correlation heatmap for values that have more meanings. (Removed names, ids, room_type, latitude, longitude - which give no meanings in correlation).\n",
        "\n",
        "- Price <br/>\n",
        "- Minimum Nights <br/>\n",
        "- Number of Reviews <br/>\n",
        "- Reviews Per Month<br/>\n",
        "- Calculated Host Listings Count<br/>\n",
        "- Availability 365<br/>\n",
        "\n",
        "\n",
        "The most positive correlation excluding one to itself is\n",
        "- reviews_per_month to number_of_reviews\n",
        "Which is expected because the most reviews you have, the more likely you will have reviews per month\n",
        "\n",
        "The most negative correlation is\n",
        "- number_of_reviews to minimum_nights\n",
        "This shows that having a higher value of minimum_nights often lead to a lower reviews."
      ],
      "metadata": {
        "id": "XvnxEzn650Uy"
      }
    },
    {
      "cell_type": "code",
      "source": [
        "# TASK 3. Correlation Heat Map\n",
        "\n",
        "corr_df = df[['price', 'minimum_nights', 'number_of_reviews', 'reviews_per_month', 'calculated_host_listings_count','availability_365']]\n",
        "dataplot = sns.heatmap(corr_df.corr(), cmap=\"YlGnBu\", annot=True)\n",
        "plt.title('Correlation Heat Map',fontsize = 20)\n",
        "\n",
        "plt.show()\n",
        "\n"
      ],
      "metadata": {
        "id": "NElSPelemTtI"
      },
      "execution_count": null,
      "outputs": []
    },
    {
      "cell_type": "markdown",
      "source": [
        "# **TASK 4a. Scatter Plot on Coordinates & Neighbourhood Group**\n",
        "\n",
        "\n",
        "### **Scatter Plot** <br/>\n",
        "\n",
        "Created a scatter plot basd on the longitude/latitude and neighbourhood group.\n"
      ],
      "metadata": {
        "id": "0uZabi4JFlpR"
      }
    },
    {
      "cell_type": "code",
      "source": [
        "# TASK 4a. Scatter Plot on Coordinates & Neighbourhood Group\n",
        "df_coordinates = df[['longitude', 'latitude']]\n",
        "\n",
        "colors = {}\n",
        "counter = 1\n",
        "for i in df['neighbourhood_group']:\n",
        "  if i not in colors:\n",
        "    colors[i] = counter\n",
        "    counter += 1\n",
        "\n",
        "fig, ((ax1)) = plt.subplots(1,1, figsize=(10,8))\n",
        "\n",
        "df_coordinates.plot.scatter(ax=ax1, x = 'longitude', y = 'latitude', title=\"Neighbourhood Group\",xlabel=\"longitude\", ylabel=\"latitude\", s=100, c=df['neighbourhood_group'].map(colors), cmap = \"magma_r\");\n",
        "\n",
        "print(\"Colors are mapped accordingly as below\")\n",
        "print(colors)"
      ],
      "metadata": {
        "id": "udF-5g61mozI"
      },
      "execution_count": null,
      "outputs": []
    },
    {
      "cell_type": "markdown",
      "source": [
        "# **TASK 4b. Scatter Plot on Coordinates & Price**\n",
        "\n",
        "\n",
        "### **Scatter Plot** <br/>\n",
        "\n",
        "Created a scatter plot basd on the longitude/latitude and Price (below 1000).\n",
        "Although it is not perfectly clear, we can see that by comparing with the 4a. scatter plot with 4b, Manhattan is the most expensive neighbourhood group.\n"
      ],
      "metadata": {
        "id": "moNh8hwDF2aK"
      }
    },
    {
      "cell_type": "code",
      "source": [
        "# TASK 4b. Scatter Plot on Coordinates & Price\n",
        "\n",
        "df_coordinates = df[['longitude', 'latitude']]\n",
        "\n",
        "colors = {}\n",
        "counter = 1\n",
        "for i in df['price']:\n",
        "  if i not in colors and i <1000:\n",
        "    colors[i] = counter\n",
        "    counter += 1\n",
        "fig, ((ax1)) = plt.subplots(1,1, figsize=(10,8))\n",
        "\n",
        "df_coordinates.plot.scatter(ax=ax1, x = 'longitude', y = 'latitude', title=\"Price\" ,s=3, c=df['price'].map(colors), cmap = \"magma_r\");\n",
        "\n",
        "\n"
      ],
      "metadata": {
        "id": "31vMRh34mo1t"
      },
      "execution_count": null,
      "outputs": []
    },
    {
      "cell_type": "markdown",
      "source": [
        "# **TASK 5. Word Cloud**\n",
        "\n",
        "\n",
        "### **Word Cloud** <br/>\n",
        "\n",
        "Extracted Words from the dataframe to create word cloud; then, used plt to display the word cloud. Used WordCloud Package.\n",
        "\n",
        "- Price <br/>\n",
        "- Minimum Nights <br/>\n",
        "- Number of Reviews <br/>\n",
        "- Reviews Per Month<br/>\n",
        "- Calculated Host Listings Count<br/>\n",
        "- Availability 365<br/>"
      ],
      "metadata": {
        "id": "7x_tbuHk9tPN"
      }
    },
    {
      "cell_type": "code",
      "source": [
        "# TASK 5. Word Cloud \n",
        "\n",
        "words = df['neighbourhood'].values  + df['room_type'].values +  df['name'].values  +df['host_name'].values  + df['neighbourhood_group'].values\n",
        "wordcloud = WordCloud(width= 1000, height = 700, random_state=1, background_color='black', colormap='Pastel1', collocations=False, stopwords = STOPWORDS).generate(str(words))\n",
        "plt.figure(figsize=(10, 7))\n",
        "plt.imshow(wordcloud) \n",
        "plt.axis(\"off\");"
      ],
      "metadata": {
        "id": "CF4ssDltmo4C"
      },
      "execution_count": null,
      "outputs": []
    },
    {
      "cell_type": "markdown",
      "source": [
        "# **TASK 6. Busiest Host**\n",
        "\n",
        "\n",
        "### **Scatter Plots** <br/>\n",
        "\n",
        "Used Scatter Plot to identify Busiest Hosts by comparing prices, number_of_reviews, Availability, etc.\n",
        "\n",
        "The plots below show that Manhattan and Queens are most busier than the other groups. We can support this arugment because Queens are has more reviews and reviews per month in average than the other groups. Manhattan area has the higher price than the other groups.\n",
        "\n",
        "Thus, we can state that price and reviews are the prime factors in determining the busiest host areas. "
      ],
      "metadata": {
        "id": "Z1LQu7jPP62H"
      }
    },
    {
      "cell_type": "code",
      "source": [
        "# TASK 6. Busiest Host\n",
        "\n",
        "\n",
        "# availability, price, review\n",
        "\n",
        "df_coordinates = df[['longitude', 'latitude']]\n",
        "\n",
        "listings_colors = {}\n",
        "listings_counter = 1\n",
        "for i in df['calculated_host_listings_count']:\n",
        "  if i not in listings_colors:\n",
        "    listings_colors[i] = listings_counter\n",
        "    listings_counter += 1\n",
        "\n",
        "neighbour_colors = {}\n",
        "neighbour_counter = 1\n",
        "for i in df['neighbourhood_group']:\n",
        "  if i not in neighbour_colors:\n",
        "    neighbour_colors[i] = neighbour_counter\n",
        "    neighbour_counter += 1\n",
        "\n",
        "availability_colors = {}\n",
        "availability_counter = 1\n",
        "for i in df['availability_365']:\n",
        "  if i not in availability_colors:\n",
        "    availability_colors[i] = availability_counter\n",
        "    availability_counter += 1\n",
        "\n",
        "review_colors = {}\n",
        "review_counter = 1\n",
        "for i in df['number_of_reviews']:\n",
        "  if i not in review_colors:\n",
        "    review_colors[i] = review_counter\n",
        "    review_counter += 1\n",
        "\n",
        "\n",
        "review_monthly_colors = {}\n",
        "review_monthly_counter = 1\n",
        "for i in df['reviews_per_month']:\n",
        "  if i not in review_monthly_colors:\n",
        "    review_monthly_colors[i] = review_monthly_counter\n",
        "    review_monthly_counter += 1\n",
        "\n",
        "\n",
        "\n",
        "minimum_nights_colors = {}\n",
        "minimum_nights_counter = 1\n",
        "for i in df['number_of_reviews']:\n",
        "  if i not in minimum_nights_colors:\n",
        "    minimum_nights_colors[i] = minimum_nights_counter\n",
        "    minimum_nights_counter += 1\n",
        "\n",
        "price_colors = {}\n",
        "price_counter = 1\n",
        "for i in df['price']:\n",
        "  if i not in price_colors and i <1000:\n",
        "    price_colors[i] = price_counter\n",
        "    price_counter += 1\n",
        "print(neighbour_colors)\n",
        "\n",
        "\n",
        "fig, ((ax1, ax2)) = plt.subplots(1,2, figsize=(20,8))\n",
        "\n",
        "df_coordinates.plot.scatter(ax=ax1, x = 'longitude', y = 'latitude', title=\"Host Listings Count\", xlabel=\"longitude\", ylabel=\"latitude\", s=3, c=df['calculated_host_listings_count'].map(listings_colors), cmap = \"magma_r\");\n",
        "df_coordinates.plot.scatter(ax=ax2, x = 'longitude', y = 'latitude', title=\"Neighbourhood Group\", xlabel=\"longitude\", ylabel=\"latitude\", s=3, c=df['neighbourhood_group'].map(neighbour_colors), cmap = \"magma_r\", );\n",
        "\n",
        "fig2, ((ax3, ax4)) = plt.subplots(1,2, figsize=(20,8))\n",
        "df_coordinates.plot.scatter(ax=ax3, x = 'longitude', y = 'latitude', title=\"Reviews per Months\", xlabel=\"longitude\", ylabel=\"latitude\", s=3, c=df['reviews_per_month'].map(review_monthly_colors), cmap = \"magma_r\");\n",
        "df_coordinates.plot.scatter(ax=ax4, x = 'longitude', y = 'latitude', title=\"Number of Reviews\", xlabel=\"longitude\", ylabel=\"latitude\", s=3, c=df['number_of_reviews'].map(review_colors), cmap = \"magma_r\");\n",
        "\n",
        "fig3, ((ax5, ax6)) = plt.subplots(1,2, figsize=(20,8))\n",
        "df_coordinates.plot.scatter(ax=ax5, x = 'longitude', y = 'latitude', title=\"Minimum Nights\", xlabel=\"longitude\", ylabel=\"latitude\", s=3, c=df['minimum_nights'].map(minimum_nights_colors), cmap = \"magma_r\");\n",
        "df_coordinates.plot.scatter(ax=ax6, x = 'longitude', y = 'latitude', title=\"Availability 365\", xlabel=\"longitude\", ylabel=\"latitude\", s=3, c=df['availability_365'].map(availability_colors), cmap = \"magma_r\");\n",
        "\n",
        "\n",
        "\n",
        "fig4, ((ax7)) = plt.subplots(1,1, figsize=(10,8))\n",
        "df_coordinates.plot.scatter(ax=ax7, x = 'longitude', y = 'latitude', title=\"Price\" ,s=3, c=df['price'].map(price_colors), cmap = \"magma_r\");\n",
        "\n",
        "\n"
      ],
      "metadata": {
        "id": "P93veT2DmyjE"
      },
      "execution_count": null,
      "outputs": []
    },
    {
      "cell_type": "markdown",
      "source": [
        "# **TASK 7. Interesting Reveal**\n",
        "\n",
        "\n",
        "### **Scatter Plots on Interesting Reveal** <br/>\n",
        "\n",
        "Used Different Plots to find that \n",
        "\n",
        "Through **7.1** Graph, there is not a significant correlation between price and the number of reviews.\n",
        "\n",
        "Through **7.2** Graph, we see that 365 availability has a positive correlation with the price. For instance, in Manhattan, we see higher prices at highere 365 availability; which is also the case in the other neighbourhood groups too.\n",
        "\n",
        "Through **7.3** Graph, there is more demand in Manhattan and Brooklyn area than the other neighbourhood groups. \n",
        "\n",
        "Through **7.4** Graph, we can say that Shared Rooms are not popular, whereas entire apartment / private rooms are.\n",
        "\n",
        "Through **7.5** Graph, we can find a strange pattern where Manhattan is the only place that has significant more amount of Entire Home / Apt than Private Rooms. The other areas are all in favor of Priavte Rooms.\n",
        "It is a multi-column bar graphs to determine the frequency of room types distribution across the neighbourhood groups\n"
      ],
      "metadata": {
        "id": "bo4KIOUvKOly"
      }
    },
    {
      "cell_type": "code",
      "source": [
        "# TASK 7. Interesting Reveal \n",
        "\n",
        "# 7.1 df setup with price and number of reviews\n",
        "df_7_1 = df[['price','number_of_reviews']]\n",
        "\n",
        "group_colors = {}\n",
        "group_counter = 1\n",
        "for i in df['neighbourhood_group']:\n",
        "  if i not in group_colors:\n",
        "    group_colors[i] = group_counter\n",
        "    group_counter += 1\n",
        "\n",
        "\n",
        "# 7.2 df setup with neighbourhood_group, room_type, and availability_365\n",
        "df_7_2 = df[['neighbourhood_group','room_type','availability_365']]\n",
        "\n",
        "price_colors = {}\n",
        "price_counter = 1\n",
        "for i in df['price']:\n",
        "  if i not in price_colors:\n",
        "    price_colors[i] = price_counter\n",
        "    price_counter += 1\n",
        "\n",
        "\n",
        "\n",
        "fig, ((ax1, ax2)) = plt.subplots(1,2, figsize=(20,8))\n",
        "\n",
        "df_7_1.plot.scatter(ax=ax1, x = 'number_of_reviews', y = 'price', title=\"7.1 Price & Number of Reviews\" ,s=10);\n",
        "df_7_2.plot.scatter(ax=ax2, x = 'neighbourhood_group', y = 'availability_365', title=\"7.2 Price of Room Type & Neighbourhood Group \",s=10, c=df['price'].map(price_colors), cmap = \"magma_r\");\n",
        "\n",
        "\n"
      ],
      "metadata": {
        "id": "El5d5Jy0mymr"
      },
      "execution_count": null,
      "outputs": []
    },
    {
      "cell_type": "code",
      "source": [
        "# 7.3 and 7.4 df setup and simple bar graphs\n",
        "fig, ((ax1, ax2)) = plt.subplots(1,2, figsize=(20,8))\n",
        "df_7_2['neighbourhood_group'].value_counts().plot.bar(ax=ax1, xlabel='Neighbourhood Group',ylabel='Count', title='7.3 Popularity by Neighbourhood Group')\n",
        "df_7_2['room_type'].value_counts().plot.bar(ax=ax2, xlabel='Room Type',ylabel='Count', title='7.4 Popularity by Room Type')\n"
      ],
      "metadata": {
        "id": "grXc45Y8Tghz"
      },
      "execution_count": null,
      "outputs": []
    },
    {
      "cell_type": "code",
      "source": [
        "# 7.5 multi-column bar graphs to determine the frequency of room types distribution across the neighbourhood groups\n",
        "\n",
        "types_to_count = {'Manhattan', 'Brooklyn', 'Queens', 'Bronx', 'Staten Island'}\n",
        "types_to_count_2 = {'Entire home/apt', 'Private room', 'Shared room',}\n",
        "\n",
        "\n",
        "pd.crosstab(df['neighbourhood_group'],df['room_type']).plot.bar(title=\"7.5 Neighbourhood Group's Room Type Frequencies\", ylabel='count')\n"
      ],
      "metadata": {
        "id": "hJcgLK1lfX_S"
      },
      "execution_count": null,
      "outputs": []
    }
  ]
}